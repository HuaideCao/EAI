{
 "cells": [
  {
   "cell_type": "code",
   "execution_count": null,
   "metadata": {
    "colab": {
     "base_uri": "https://localhost:8080/"
    },
    "executionInfo": {
     "elapsed": 7211,
     "status": "ok",
     "timestamp": 1742141488630,
     "user": {
      "displayName": "Zijing Li",
      "userId": "07481585395829985224"
     },
     "user_tz": 0
    },
    "id": "pZbZ_NSISURj",
    "outputId": "58bc45a4-a977-486d-aabd-3df06ffd229c"
   },
   "outputs": [
    {
     "name": "stdout",
     "output_type": "stream",
     "text": [
      "\n",
      "    _|    _|  _|    _|    _|_|_|    _|_|_|  _|_|_|  _|      _|    _|_|_|      _|_|_|_|    _|_|      _|_|_|  _|_|_|_|\n",
      "    _|    _|  _|    _|  _|        _|          _|    _|_|    _|  _|            _|        _|    _|  _|        _|\n",
      "    _|_|_|_|  _|    _|  _|  _|_|  _|  _|_|    _|    _|  _|  _|  _|  _|_|      _|_|_|    _|_|_|_|  _|        _|_|_|\n",
      "    _|    _|  _|    _|  _|    _|  _|    _|    _|    _|    _|_|  _|    _|      _|        _|    _|  _|        _|\n",
      "    _|    _|    _|_|      _|_|_|    _|_|_|  _|_|_|  _|      _|    _|_|_|      _|        _|    _|    _|_|_|  _|_|_|_|\n",
      "\n",
      "    To log in, `huggingface_hub` requires a token generated from https://huggingface.co/settings/tokens .\n",
      "Enter your token (input will not be visible): object address  : 0x7e68cf0c5360\n",
      "object refcount : 2\n",
      "object type     : 0x9d5ea0\n",
      "object type name: KeyboardInterrupt\n",
      "object repr     : KeyboardInterrupt()\n",
      "lost sys.stderr\n",
      "^C\n"
     ]
    }
   ],
   "source": [
    "!huggingface-cli login  #Login huggingface to get the permission of using Microsoft phi4\n"
   ]
  },
  {
   "cell_type": "code",
   "execution_count": null,
   "metadata": {
    "colab": {
     "base_uri": "https://localhost:8080/"
    },
    "executionInfo": {
     "elapsed": 1810,
     "status": "ok",
     "timestamp": 1742510030814,
     "user": {
      "displayName": "Zijing Li",
      "userId": "07481585395829985224"
     },
     "user_tz": 0
    },
    "id": "FjPPXaZHUVIl",
    "outputId": "768b8a45-63d4-4c8e-f0f9-bd224e81e1d5"
   },
   "outputs": [
    {
     "name": "stdout",
     "output_type": "stream",
     "text": [
      "Obtaining file:///content\n",
      "\u001b[31mERROR: file:///content does not appear to be a Python project: neither 'setup.py' nor 'pyproject.toml' found.\u001b[0m\u001b[31m\n",
      "\u001b[0m"
     ]
    }
   ],
   "source": [
    "!pip install -e \".[torch,metrics]\" #install all the requirements"
   ]
  },
  {
   "cell_type": "code",
   "execution_count": null,
   "metadata": {
    "colab": {
     "base_uri": "https://localhost:8080/"
    },
    "executionInfo": {
     "elapsed": 74546,
     "status": "ok",
     "timestamp": 1743039865262,
     "user": {
      "displayName": "Zijing Li",
      "userId": "07481585395829985224"
     },
     "user_tz": 0
    },
    "id": "Gqcvx6rTaKAv",
    "outputId": "ecb3e4ff-b072-4f2f-bb38-d394c0a32874"
   },
   "outputs": [
    {
     "name": "stdout",
     "output_type": "stream",
     "text": [
      "2025-03-27 01:43:23.345767: I tensorflow/core/util/port.cc:153] oneDNN custom operations are on. You may see slightly different numerical results due to floating-point round-off errors from different computation orders. To turn them off, set the environment variable `TF_ENABLE_ONEDNN_OPTS=0`.\n",
      "2025-03-27 01:43:23.365511: E external/local_xla/xla/stream_executor/cuda/cuda_fft.cc:477] Unable to register cuFFT factory: Attempting to register factory for plugin cuFFT when one has already been registered\n",
      "WARNING: All log messages before absl::InitializeLog() is called are written to STDERR\n",
      "E0000 00:00:1743039803.389032    3563 cuda_dnn.cc:8310] Unable to register cuDNN factory: Attempting to register factory for plugin cuDNN when one has already been registered\n",
      "E0000 00:00:1743039803.396024    3563 cuda_blas.cc:1418] Unable to register cuBLAS factory: Attempting to register factory for plugin cuBLAS when one has already been registered\n",
      "2025-03-27 01:43:23.419215: I tensorflow/core/platform/cpu_feature_guard.cc:210] This TensorFlow binary is optimized to use available CPU instructions in performance-critical operations.\n",
      "To enable the following instructions: AVX2 AVX512F AVX512_VNNI FMA, in other operations, rebuild TensorFlow with the appropriate compiler flags.\n",
      "* Running on local URL:  http://0.0.0.0:7860\n",
      "* Running on public URL: https://cea4bd9438bbb24187.gradio.live\n",
      "\n",
      "This share link expires in 72 hours. For free permanent hosting and GPU upgrades, run `gradio deploy` from the terminal in the working directory to deploy to Hugging Face Spaces (https://huggingface.co/spaces)\n",
      "Keyboard interruption in main thread... closing server.\n",
      "Traceback (most recent call last):\n",
      "  File \"/usr/local/lib/python3.11/dist-packages/gradio/blocks.py\", line 2923, in block_thread\n",
      "    time.sleep(0.1)\n",
      "KeyboardInterrupt\n",
      "\n",
      "During handling of the above exception, another exception occurred:\n",
      "\n",
      "Traceback (most recent call last):\n",
      "  File \"/usr/local/bin/llamafactory-cli\", line 8, in <module>\n",
      "    sys.exit(main())\n",
      "             ^^^^^^\n",
      "  File \"/content/drive/MyDrive/Colab/LLaMA-Factory/src/llamafactory/cli.py\", line 116, in main\n",
      "    run_web_ui()\n",
      "  File \"/content/drive/MyDrive/Colab/LLaMA-Factory/src/llamafactory/webui/interface.py\", line 94, in run_web_ui\n",
      "    create_ui().queue().launch(share=gradio_share, server_name=server_name, inbrowser=True)\n",
      "  File \"/usr/local/lib/python3.11/dist-packages/gradio/blocks.py\", line 2829, in launch\n",
      "    self.block_thread()\n",
      "  File \"/usr/local/lib/python3.11/dist-packages/gradio/blocks.py\", line 2927, in block_thread\n",
      "    self.server.close()\n",
      "  File \"/usr/local/lib/python3.11/dist-packages/gradio/http_server.py\", line 64, in close\n",
      "    def close(self):\n",
      "\n",
      "KeyboardInterrupt\n",
      "Killing tunnel 0.0.0.0:7860 <> https://cea4bd9438bbb24187.gradio.live\n"
     ]
    }
   ],
   "source": [
    "import os\n",
    "os.environ[\"GRADIO_SHARE\"] = \"1\"  #Because we use the LlaMA-Factory on Google Colab, we nned a public url for fine-tune UI page.\n",
    "os.environ[\"WANDB_DISABLED\"] = \"true\"  #Disable WANDB tools when evaluation\n",
    "!llamafactory-cli webui"
   ]
  },
  {
   "cell_type": "code",
   "execution_count": null,
   "metadata": {
    "id": "oK2BNrv_zs2s"
   },
   "outputs": [],
   "source": [
    "!pip install bitsandbytes>=0.39.0"
   ]
  },
  {
   "cell_type": "code",
   "execution_count": null,
   "metadata": {
    "id": "B4Z3w7N5lE56"
   },
   "outputs": [],
   "source": [
    "import torch\n",
    "torch.cuda.empty_cache()\n"
   ]
  },
  {
   "cell_type": "code",
   "execution_count": null,
   "metadata": {
    "colab": {
     "base_uri": "https://localhost:8080/"
    },
    "executionInfo": {
     "elapsed": 16120,
     "status": "ok",
     "timestamp": 1740663593141,
     "user": {
      "displayName": "Zijing Li",
      "userId": "07481585395829985224"
     },
     "user_tz": 0
    },
    "id": "vhTuHpTnoeH7",
    "outputId": "2f72db55-a984-48a6-bc5d-bd2956f0d5c7"
   },
   "outputs": [
    {
     "name": "stdout",
     "output_type": "stream",
     "text": [
      "Drive already mounted at /content/drive; to attempt to forcibly remount, call drive.mount(\"/content/drive\", force_remount=True).\n"
     ]
    }
   ],
   "source": [
    "from google.colab import drive\n",
    "drive.mount('/content/drive')  # Check if link with Google Drive"
   ]
  },
  {
   "cell_type": "code",
   "execution_count": null,
   "metadata": {
    "colab": {
     "base_uri": "https://localhost:8080/"
    },
    "executionInfo": {
     "elapsed": 7070,
     "status": "ok",
     "timestamp": 1742176475771,
     "user": {
      "displayName": "Zijing Li",
      "userId": "07481585395829985224"
     },
     "user_tz": 0
    },
    "id": "u6BCemRn6LZN",
    "outputId": "37d7529d-a30a-480c-dc3b-0372590ff8d2"
   },
   "outputs": [
    {
     "name": "stdout",
     "output_type": "stream",
     "text": [
      "Collecting swanlab\n",
      "  Downloading swanlab-0.5.2-py3-none-any.whl.metadata (25 kB)\n",
      "Collecting boto3>=1.35.49 (from swanlab)\n",
      "  Downloading boto3-1.37.13-py3-none-any.whl.metadata (6.7 kB)\n",
      "Collecting botocore (from swanlab)\n",
      "  Downloading botocore-1.37.13-py3-none-any.whl.metadata (5.7 kB)\n",
      "Requirement already satisfied: click in /usr/local/lib/python3.11/dist-packages (from swanlab) (8.1.8)\n",
      "Requirement already satisfied: psutil>=5.0.0 in /usr/local/lib/python3.11/dist-packages (from swanlab) (5.9.5)\n",
      "Requirement already satisfied: pynvml in /usr/local/lib/python3.11/dist-packages (from swanlab) (12.0.0)\n",
      "Requirement already satisfied: pyyaml in /usr/local/lib/python3.11/dist-packages (from swanlab) (6.0.2)\n",
      "Requirement already satisfied: requests>=2.25.0 in /usr/local/lib/python3.11/dist-packages (from swanlab) (2.32.3)\n",
      "Requirement already satisfied: setuptools in /usr/local/lib/python3.11/dist-packages (from swanlab) (75.1.0)\n",
      "Collecting swankit==0.1.6 (from swanlab)\n",
      "  Downloading swankit-0.1.6-py3-none-any.whl.metadata (552 bytes)\n",
      "Requirement already satisfied: urllib3>=1.26.0 in /usr/local/lib/python3.11/dist-packages (from swanlab) (2.3.0)\n",
      "Collecting jmespath<2.0.0,>=0.7.1 (from boto3>=1.35.49->swanlab)\n",
      "  Downloading jmespath-1.0.1-py3-none-any.whl.metadata (7.6 kB)\n",
      "Collecting s3transfer<0.12.0,>=0.11.0 (from boto3>=1.35.49->swanlab)\n",
      "  Downloading s3transfer-0.11.4-py3-none-any.whl.metadata (1.7 kB)\n",
      "Requirement already satisfied: python-dateutil<3.0.0,>=2.1 in /usr/local/lib/python3.11/dist-packages (from botocore->swanlab) (2.8.2)\n",
      "Requirement already satisfied: charset-normalizer<4,>=2 in /usr/local/lib/python3.11/dist-packages (from requests>=2.25.0->swanlab) (3.4.1)\n",
      "Requirement already satisfied: idna<4,>=2.5 in /usr/local/lib/python3.11/dist-packages (from requests>=2.25.0->swanlab) (3.10)\n",
      "Requirement already satisfied: certifi>=2017.4.17 in /usr/local/lib/python3.11/dist-packages (from requests>=2.25.0->swanlab) (2025.1.31)\n",
      "Requirement already satisfied: nvidia-ml-py<13.0.0a0,>=12.0.0 in /usr/local/lib/python3.11/dist-packages (from pynvml->swanlab) (12.570.86)\n",
      "Requirement already satisfied: six>=1.5 in /usr/local/lib/python3.11/dist-packages (from python-dateutil<3.0.0,>=2.1->botocore->swanlab) (1.17.0)\n",
      "Downloading swanlab-0.5.2-py3-none-any.whl (175 kB)\n",
      "\u001b[2K   \u001b[90m━━━━━━━━━━━━━━━━━━━━━━━━━━━━━━━━━━━━━━━━\u001b[0m \u001b[32m175.9/175.9 kB\u001b[0m \u001b[31m21.1 MB/s\u001b[0m eta \u001b[36m0:00:00\u001b[0m\n",
      "\u001b[?25hDownloading swankit-0.1.6-py3-none-any.whl (23 kB)\n",
      "Downloading boto3-1.37.13-py3-none-any.whl (139 kB)\n",
      "\u001b[2K   \u001b[90m━━━━━━━━━━━━━━━━━━━━━━━━━━━━━━━━━━━━━━━━\u001b[0m \u001b[32m139.6/139.6 kB\u001b[0m \u001b[31m17.8 MB/s\u001b[0m eta \u001b[36m0:00:00\u001b[0m\n",
      "\u001b[?25hDownloading botocore-1.37.13-py3-none-any.whl (13.4 MB)\n",
      "\u001b[2K   \u001b[90m━━━━━━━━━━━━━━━━━━━━━━━━━━━━━━━━━━━━━━━━\u001b[0m \u001b[32m13.4/13.4 MB\u001b[0m \u001b[31m112.0 MB/s\u001b[0m eta \u001b[36m0:00:00\u001b[0m\n",
      "\u001b[?25hDownloading jmespath-1.0.1-py3-none-any.whl (20 kB)\n",
      "Downloading s3transfer-0.11.4-py3-none-any.whl (84 kB)\n",
      "\u001b[2K   \u001b[90m━━━━━━━━━━━━━━━━━━━━━━━━━━━━━━━━━━━━━━━━\u001b[0m \u001b[32m84.4/84.4 kB\u001b[0m \u001b[31m10.7 MB/s\u001b[0m eta \u001b[36m0:00:00\u001b[0m\n",
      "\u001b[?25hInstalling collected packages: swankit, jmespath, botocore, s3transfer, boto3, swanlab\n",
      "Successfully installed boto3-1.37.13 botocore-1.37.13 jmespath-1.0.1 s3transfer-0.11.4 swankit-0.1.6 swanlab-0.5.2\n"
     ]
    }
   ],
   "source": [
    "!pip install swanlab"
   ]
  }
 ],
 "metadata": {
  "accelerator": "GPU",
  "colab": {
   "authorship_tag": "ABX9TyMUX5a/oz+vAfiJIaOIZKWd",
   "gpuType": "L4",
   "machine_shape": "hm",
   "mount_file_id": "1Z1wLOO2w93g9GN1E_VjY1fuwVHAifAJc",
   "provenance": []
  },
  "kernelspec": {
   "display_name": "Python 3",
   "name": "python3"
  },
  "language_info": {
   "name": "python"
  }
 },
 "nbformat": 4,
 "nbformat_minor": 0
}
